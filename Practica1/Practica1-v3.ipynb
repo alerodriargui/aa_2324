{
 "cells": [
  {
   "cell_type": "code",
   "execution_count": 4,
   "metadata": {},
   "outputs": [
    {
     "name": "stderr",
     "output_type": "stream",
     "text": [
      "C:\\Users\\alero\\AppData\\Local\\Packages\\PythonSoftwareFoundation.Python.3.10_qbz5n2kfra8p0\\LocalCache\\local-packages\\Python310\\site-packages\\skimage\\feature\\texture.py:353: UserWarning: Applying `local_binary_pattern` to floating-point images may give unexpected results when small numerical differences between adjacent pixels are present. It is recommended to use this function with images of integer dtype.\n",
      "  warnings.warn(\n"
     ]
    },
    {
     "name": "stdout",
     "output_type": "stream",
     "text": [
      "Precisión del modelo SVM con características HOG y LBP: 0.31666666666666665\n"
     ]
    }
   ],
   "source": [
    "import numpy as np\n",
    "import matplotlib.pyplot as plt\n",
    "from matplotlib.image import imread\n",
    "from skimage.feature import hog, local_binary_pattern\n",
    "from skimage import exposure, io, transform\n",
    "import os\n",
    "import pandas as pd\n",
    "from sklearn.metrics import accuracy_score\n",
    "from sklearn.model_selection import train_test_split\n",
    "from sklearn.svm import SVC\n",
    "\n",
    "# Directorios de datos\n",
    "testa2 = 'a2/data/test'\n",
    "traina2 = 'a2/data/train'\n",
    "\n",
    "# Obtener categorías\n",
    "categorias = os.listdir(traina2)\n",
    "\n",
    "# Parámetros HOG\n",
    "pixels_per_cell_hog = (5, 5)\n",
    "cells_per_block_hog = (4, 4)\n",
    "orientations_hog = 13\n",
    "img_size_hog = (100, 100)\n",
    "\n",
    "# Parámetros LBP\n",
    "radius_lbp = 4\n",
    "n_points_lbp = 8 * radius_lbp\n",
    "\n",
    "def calcular_hog_lbp_features(train_dir, categorias, pixels_per_cell_hog, cells_per_block_hog, orientations_hog, img_size_hog, radius_lbp, n_points_lbp):\n",
    "    features_list = []\n",
    "    labels = []\n",
    "\n",
    "    for i, category in enumerate(categorias):\n",
    "        category_path = os.path.join(train_dir, category)\n",
    "        image_files = os.listdir(category_path)\n",
    "\n",
    "        for image_file in image_files:\n",
    "            image_path = os.path.join(category_path, image_file)\n",
    "\n",
    "            # Cargar la imagen en escala de grises y redimensionar si es necesario\n",
    "            img = io.imread(image_path, as_gray=True)\n",
    "            img = transform.resize(img, img_size_hog)\n",
    "\n",
    "            # Ajuste de contraste adaptativo\n",
    "            img = exposure.equalize_adapthist(img)\n",
    "\n",
    "            # Calcular las características HOG\n",
    "            features_hog = hog(img, orientations_hog, pixels_per_cell=pixels_per_cell_hog, cells_per_block=cells_per_block_hog)\n",
    "\n",
    "            # Calcular las características LBP\n",
    "            lbp = local_binary_pattern(img, n_points_lbp, radius_lbp, method='uniform')\n",
    "            features_lbp, _ = np.histogram(lbp, bins=10, range=(0, 10))\n",
    "\n",
    "            # Concatenar características HOG y LBP\n",
    "            features_combined = np.concatenate((features_hog, features_lbp))\n",
    "\n",
    "            features_list.append(features_combined)\n",
    "            labels.append(category)\n",
    "\n",
    "    df = pd.DataFrame(features_list)\n",
    "    df['label'] = labels\n",
    "\n",
    "    return df\n",
    "\n",
    "# Calcular características HOG y LBP\n",
    "df = calcular_hog_lbp_features(traina2, categorias, pixels_per_cell_hog, cells_per_block_hog, orientations_hog, img_size_hog, radius_lbp, n_points_lbp)\n",
    "\n",
    "# Separar características y etiquetas\n",
    "X = df.drop('label', axis=1)\n",
    "y = df['label']\n",
    "\n",
    "# Dividir los datos en conjuntos de entrenamiento y prueba\n",
    "X_train, X_test, y_train, y_test = train_test_split(X, y, test_size=0.2, random_state=42)\n",
    "\n",
    "# Crear y entrenar el modelo SVM\n",
    "svm_model = SVC(kernel='rbf')  # Puedes ajustar otros parámetros aquí\n",
    "svm_model.fit(X_train, y_train)\n",
    "\n",
    "# Realizar predicciones en el conjunto de prueba\n",
    "y_pred = svm_model.predict(X_test)\n",
    "\n",
    "# Calcular la precisión del modelo\n",
    "accuracy = accuracy_score(y_test, y_pred)\n",
    "print(\"Precisión del modelo SVM con características HOG y LBP:\", accuracy)\n"
   ]
  }
 ],
 "metadata": {
  "kernelspec": {
   "display_name": "Python 3",
   "language": "python",
   "name": "python3"
  },
  "language_info": {
   "codemirror_mode": {
    "name": "ipython",
    "version": 3
   },
   "file_extension": ".py",
   "mimetype": "text/x-python",
   "name": "python",
   "nbconvert_exporter": "python",
   "pygments_lexer": "ipython3",
   "version": "3.10.11"
  }
 },
 "nbformat": 4,
 "nbformat_minor": 2
}
